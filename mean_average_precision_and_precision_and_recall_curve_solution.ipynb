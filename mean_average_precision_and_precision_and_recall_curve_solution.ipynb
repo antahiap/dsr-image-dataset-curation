{
  "nbformat": 4,
  "nbformat_minor": 0,
  "metadata": {
    "colab": {
      "provenance": [],
      "include_colab_link": true
    },
    "kernelspec": {
      "name": "python3",
      "display_name": "Python 3"
    }
  },
  "cells": [
    {
      "cell_type": "markdown",
      "metadata": {
        "id": "view-in-github",
        "colab_type": "text"
      },
      "source": [
        "<a href=\"https://colab.research.google.com/github/antahiap/dsr-image-dataset-curation/blob/main/mean_average_precision_and_precision_and_recall_curve_solution.ipynb\" target=\"_parent\"><img src=\"https://colab.research.google.com/assets/colab-badge.svg\" alt=\"Open In Colab\"/></a>"
      ]
    },
    {
      "cell_type": "markdown",
      "metadata": {
        "id": "Nlys2anRMATU"
      },
      "source": [
        "### Steps to calculate the average precision (AP) of a classification or detection model\n",
        "\n",
        "  *  Generate the prediction scores using the model\n",
        "  *  Convert the prediction scores to **binary** class labels (positive or negative)\n",
        "  *  Compute the confusion matrix (identify predictions as true positives, true negatives, false positives, and false negatives)\n",
        "  * Calculate the precision and recall metrics at different prediction score thresholds\n",
        "  * Measure the average precision\n",
        "\n",
        "  >>The average precision (AP) is a way to summarize the precision-recall curve into a single value representing the average of all precisions. The AP is calculated according to the next equation. Using a loop that goes through all precisions/recalls, the difference between the current and next recalls is calculated and then multiplied by the current precision. In other words, the AP is the weighted sum of precisions at each threshold where the weight is the increase in recall.\n",
        "\n",
        "$$ AP = \\sum_{k=0}^{k=n-1}(Recalls(k) - Recalls(k-1)) * Precisions(k)$$\n",
        "\n",
        "$$n = \\text{number of thresholds}$$\n",
        "________\n",
        "\n",
        "The list of precisions in the last position (position $n$) is always 1 (we append this value)\n",
        "\n",
        "$$\\text{Precisions(n) = 1}$$\n",
        "\n",
        "\n",
        "The list of recalls in the last position (position $n$) is always 0 (we append this value)\n",
        "\n",
        "$$\\text{Recalls(n)=0}$$\n",
        "\n",
        "\n",
        "\n"
      ]
    },
    {
      "cell_type": "code",
      "metadata": {
        "id": "s5ORZJe8foJX"
      },
      "source": [
        "import numpy as np\n",
        "new_values = list(np.random.uniform(0, 1,1000))\n",
        "new_labels = ['positive', 'negative'] * 500"
      ],
      "execution_count": null,
      "outputs": []
    },
    {
      "cell_type": "code",
      "metadata": {
        "id": "sBH2ULJ5HS_o",
        "colab": {
          "base_uri": "https://localhost:8080/"
        },
        "outputId": "07e82db2-a86a-47d8-e85d-ee9aa63173a8"
      },
      "source": [
        "import numpy\n",
        "\n",
        "y_true = [\"positive\", \"negative\", \"negative\", \"positive\", \"positive\", \"positive\", \"negative\",\n",
        "          \"positive\", \"negative\", \"positive\", \"positive\", \"positive\", \"positive\", \"negative\",\n",
        "          \"negative\", \"negative\"]\n",
        "\n",
        "y_true = y_true + new_labels\n",
        "\n",
        "\n",
        "# suppose that this are the confidences of different models\n",
        "# exercise: change number of data points by generating random numbers between 0 and 1\n",
        "# we are gonna append the same number of items in the y_true vector of ground truths\n",
        "\n",
        "pred_scores = [0.7, 0.3, 0.5, 0.6, 0.55, 0.9, 0.4, 0.2, 0.4, 0.3, 0.7, 0.5, 0.8, 0.2, 0.3, 0.35]\n",
        "pred_scores = pred_scores + new_values\n",
        "\n",
        "# the start and end range and the step size are up to us\n",
        "thresholds = numpy.arange(start=0.1, stop=0.99, step=0.05)\n",
        "\n",
        "# 10 threshold values of confidence exist within this range\n",
        "thresholds"
      ],
      "execution_count": null,
      "outputs": [
        {
          "output_type": "execute_result",
          "data": {
            "text/plain": [
              "array([0.1 , 0.15, 0.2 , 0.25, 0.3 , 0.35, 0.4 , 0.45, 0.5 , 0.55, 0.6 ,\n",
              "       0.65, 0.7 , 0.75, 0.8 , 0.85, 0.9 , 0.95])"
            ]
          },
          "metadata": {},
          "execution_count": 2
        }
      ]
    },
    {
      "cell_type": "code",
      "metadata": {
        "id": "z4iuWggFHjdx"
      },
      "source": [
        "import sklearn.metrics\n",
        "\n",
        "# we get a list of as many precisions and recalls as we have thresholds of confidence\n",
        "def precision_recall_values(y_true, pred_scores, thresholds):\n",
        "    precisions = []\n",
        "    recalls = []\n",
        "\n",
        "    for threshold in thresholds:\n",
        "        y_pred = [\"positive\" if score >= threshold else \"negative\" for score in pred_scores]\n",
        "\n",
        "        precision = sklearn.metrics.precision_score(y_true=y_true, y_pred=y_pred, pos_label=\"positive\")\n",
        "        recall = sklearn.metrics.recall_score(y_true=y_true, y_pred=y_pred, pos_label=\"positive\")\n",
        "\n",
        "        precisions.append(precision)\n",
        "        recalls.append(recall)\n",
        "\n",
        "    return precisions, recalls"
      ],
      "execution_count": null,
      "outputs": []
    },
    {
      "cell_type": "code",
      "metadata": {
        "id": "RvhG4WYYIPHj"
      },
      "source": [
        "precisions, recalls = precision_recall_values(y_true=y_true,\n",
        "                                             pred_scores=pred_scores,\n",
        "                                             thresholds=thresholds)"
      ],
      "execution_count": null,
      "outputs": []
    },
    {
      "cell_type": "code",
      "metadata": {
        "id": "e37OQTlIISdI",
        "colab": {
          "base_uri": "https://localhost:8080/"
        },
        "outputId": "2c3b1504-09f8-49af-bca1-545e4b607642"
      },
      "source": [
        "precisions, recalls"
      ],
      "execution_count": null,
      "outputs": [
        {
          "output_type": "execute_result",
          "data": {
            "text/plain": [
              "([0.505945945945946,\n",
              "  0.5057339449541285,\n",
              "  0.5079950799507995,\n",
              "  0.5039370078740157,\n",
              "  0.5020979020979021,\n",
              "  0.5044642857142857,\n",
              "  0.5158730158730159,\n",
              "  0.5102040816326531,\n",
              "  0.5065913370998116,\n",
              "  0.5020576131687243,\n",
              "  0.5152941176470588,\n",
              "  0.511049723756906,\n",
              "  0.49508196721311476,\n",
              "  0.496,\n",
              "  0.48058252427184467,\n",
              "  0.5222929936305732,\n",
              "  0.49107142857142855,\n",
              "  0.5084745762711864],\n",
              " [0.9194499017681729,\n",
              "  0.8664047151277013,\n",
              "  0.8113948919449901,\n",
              "  0.7544204322200393,\n",
              "  0.7053045186640472,\n",
              "  0.6660117878192534,\n",
              "  0.6385068762278978,\n",
              "  0.5893909626719057,\n",
              "  0.5284872298624754,\n",
              "  0.4793713163064833,\n",
              "  0.4302554027504912,\n",
              "  0.36345776031434185,\n",
              "  0.2966601178781925,\n",
              "  0.24361493123772102,\n",
              "  0.1944990176817289,\n",
              "  0.16110019646365423,\n",
              "  0.10805500982318271,\n",
              "  0.05893909626719057])"
            ]
          },
          "metadata": {},
          "execution_count": 5
        }
      ]
    },
    {
      "cell_type": "code",
      "metadata": {
        "id": "uCn-5cfSIc0x",
        "colab": {
          "base_uri": "https://localhost:8080/",
          "height": 478
        },
        "outputId": "a2495461-a068-4e52-f78f-44be7fd23cf5"
      },
      "source": [
        "import matplotlib.pyplot\n",
        "# note how the behavior of this curve changes as we reevaluate the whole notebook\n",
        "# It is also different from the behavior of the curve in paperspace's blog, why is this?\n",
        "matplotlib.pyplot.plot(recalls, precisions, linewidth=4, color=\"red\")\n",
        "matplotlib.pyplot.xlabel(\"Recall\", fontsize=12, fontweight='bold')\n",
        "matplotlib.pyplot.ylabel(\"Precision\", fontsize=12, fontweight='bold')\n",
        "matplotlib.pyplot.title(\"Precision-Recall Curve\", fontsize=15, fontweight=\"bold\")\n",
        "matplotlib.pyplot.show()"
      ],
      "execution_count": null,
      "outputs": [
        {
          "output_type": "display_data",
          "data": {
            "text/plain": [
              "<Figure size 640x480 with 1 Axes>"
            ],
            "image/png": "[encoded data removed]"
          },
          "metadata": {}
        }
      ]
    },
    {
      "cell_type": "code",
      "metadata": {
        "id": "5r8viPIwIgyA",
        "colab": {
          "base_uri": "https://localhost:8080/"
        },
        "outputId": "9dc00bde-7883-41fc-c897-368aed18d958"
      },
      "source": [
        "# the max f1 value will give us the threshold at which we maximize joint recall and precision\n",
        "f1 = 2 * ((numpy.array(precisions) * numpy.array(recalls)) / (numpy.array(precisions) + numpy.array(recalls)))\n",
        "f1"
      ],
      "execution_count": null,
      "outputs": [
        {
          "output_type": "execute_result",
          "data": {
            "text/plain": [
              "array([0.65271967, 0.63866763, 0.62481089, 0.60424862, 0.58660131,\n",
              "       0.57408975, 0.57067603, 0.54694622, 0.51730769, 0.49045226,\n",
              "       0.46895075, 0.42479908, 0.37100737, 0.32674572, 0.27692308,\n",
              "       0.24624625, 0.17713366, 0.1056338 ])"
            ]
          },
          "metadata": {},
          "execution_count": 7
        }
      ]
    },
    {
      "cell_type": "markdown",
      "metadata": {
        "id": "cMNU5kP3hH3k"
      },
      "source": [
        "![image.png](data:image/png;base64,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)"
      ]
    },
    {
      "cell_type": "code",
      "metadata": {
        "colab": {
          "base_uri": "https://localhost:8080/"
        },
        "id": "WIZjfJ7DhCWv",
        "outputId": "eb127af5-655e-434f-fc98-06a1e90f428a"
      },
      "source": [
        "beta = 0.5\n",
        "f_05 = (1 + (beta)**2) *  ((numpy.array(precisions) * numpy.array(recalls)) / ((((beta**2) * (numpy.array(precisions))) + numpy.array(recalls))))\n",
        "\n",
        "beta = 2\n",
        "f_2 = (1 + (beta)**2) *  ((numpy.array(precisions) * numpy.array(recalls)) / ((((beta**2) * (numpy.array(precisions))) + numpy.array(recalls))))\n",
        "\n",
        "print(f_05)\n",
        "print(f_2)"
      ],
      "execution_count": null,
      "outputs": [
        {
          "output_type": "stream",
          "name": "stdout",
          "text": [
            "[0.55595153 0.55166375 0.5490561  0.53978071 0.53279905 0.53018455\n",
            " 0.53648069 0.52429221 0.51082415 0.49735018 0.49569941 0.47266224\n",
            " 0.43666859 0.41086812 0.37134284 0.36059807 0.28735632 0.20134228]\n",
            "[0.79027356 0.75825309 0.72481572 0.68620443 0.65249    0.62592319\n",
            " 0.60952738 0.57164634 0.52395793 0.48374306 0.44494108 0.38573812\n",
            " 0.32251175 0.2712161  0.22078501 0.1869585  0.12802607 0.07159905]\n"
          ]
        }
      ]
    },
    {
      "cell_type": "code",
      "metadata": {
        "colab": {
          "base_uri": "https://localhost:8080/"
        },
        "id": "DW80I682kzy5",
        "outputId": "b0afde9f-4f8a-4a20-e605-afd8894185d1"
      },
      "source": [
        "np.amin(f_2), np.amin(f1), np.amin(f_05)"
      ],
      "execution_count": null,
      "outputs": [
        {
          "output_type": "execute_result",
          "data": {
            "text/plain": [
              "(0.07159904534606204, 0.10563380281690142, 0.20134228187919462)"
            ]
          },
          "metadata": {},
          "execution_count": 9
        }
      ]
    },
    {
      "cell_type": "code",
      "metadata": {
        "colab": {
          "base_uri": "https://localhost:8080/"
        },
        "id": "09mi1jLljrCW",
        "outputId": "99b58724-23d8-4b95-a128-5a9620cca21c"
      },
      "source": [
        "np.amax(f_2), np.amax(f1), np.amax(f_05)\n"
      ],
      "execution_count": null,
      "outputs": [
        {
          "output_type": "execute_result",
          "data": {
            "text/plain": [
              "(0.7902735562310031, 0.6527196652719666, 0.5559515324305062)"
            ]
          },
          "metadata": {},
          "execution_count": 10
        }
      ]
    },
    {
      "cell_type": "code",
      "metadata": {
        "colab": {
          "base_uri": "https://localhost:8080/"
        },
        "id": "1J-qrMwrmMP5",
        "outputId": "256c663d-6043-4838-d679-6c3a667dfa0d"
      },
      "source": [
        "a = np.arange(6).reshape(2,3) + 10\n",
        "print(a)\n",
        "\n",
        "\n",
        "print(np.argmax(a))\n",
        "\n",
        "print(np.argmax(a, axis=0)) # by cols\n",
        "\n",
        "print(np.argmax(a, axis=1))"
      ],
      "execution_count": null,
      "outputs": [
        {
          "output_type": "stream",
          "name": "stdout",
          "text": [
            "[[10 11 12]\n",
            " [13 14 15]]\n",
            "5\n",
            "[1 1 1]\n",
            "[2 2]\n"
          ]
        }
      ]
    },
    {
      "cell_type": "code",
      "metadata": {
        "colab": {
          "base_uri": "https://localhost:8080/"
        },
        "id": "RaEfO29TnplN",
        "outputId": "9218c3dc-d7d4-42b8-9f27-48bd841d19b3"
      },
      "source": [
        "np.argmax(f1)"
      ],
      "execution_count": null,
      "outputs": [
        {
          "output_type": "execute_result",
          "data": {
            "text/plain": [
              "0"
            ]
          },
          "metadata": {},
          "execution_count": 12
        }
      ]
    },
    {
      "cell_type": "code",
      "metadata": {
        "colab": {
          "base_uri": "https://localhost:8080/"
        },
        "id": "-6_RHnWqnwDl",
        "outputId": "a4b07a39-8f78-4f70-f344-c077da158f39"
      },
      "source": [
        "f1[0], np.amax(f1)"
      ],
      "execution_count": null,
      "outputs": [
        {
          "output_type": "execute_result",
          "data": {
            "text/plain": [
              "(0.6527196652719666, 0.6527196652719666)"
            ]
          },
          "metadata": {},
          "execution_count": 13
        }
      ]
    },
    {
      "cell_type": "code",
      "metadata": {
        "colab": {
          "base_uri": "https://localhost:8080/"
        },
        "id": "ViUq1psZn4WF",
        "outputId": "a738809a-a958-4a6a-8fcd-f6f7947c21a3"
      },
      "source": [
        "thresholds[np.argmax(f1)]"
      ],
      "execution_count": null,
      "outputs": [
        {
          "output_type": "execute_result",
          "data": {
            "text/plain": [
              "0.1"
            ]
          },
          "metadata": {},
          "execution_count": 14
        }
      ]
    },
    {
      "cell_type": "code",
      "metadata": {
        "colab": {
          "base_uri": "https://localhost:8080/"
        },
        "id": "Hsgrvv1hpEtz",
        "outputId": "7e5cf04a-5eb8-499c-c029-b65bfbe932a1"
      },
      "source": [
        "thresholds[np.argmax(f_2)]"
      ],
      "execution_count": null,
      "outputs": [
        {
          "output_type": "execute_result",
          "data": {
            "text/plain": [
              "0.1"
            ]
          },
          "metadata": {},
          "execution_count": 15
        }
      ]
    },
    {
      "cell_type": "code",
      "metadata": {
        "id": "Z7yzHNRBpJQL",
        "colab": {
          "base_uri": "https://localhost:8080/"
        },
        "outputId": "56077a39-1536-4f77-c452-4a6fce501795"
      },
      "source": [
        "thresholds[np.argmax(f_05)]"
      ],
      "execution_count": null,
      "outputs": [
        {
          "output_type": "execute_result",
          "data": {
            "text/plain": [
              "0.1"
            ]
          },
          "metadata": {},
          "execution_count": 16
        }
      ]
    },
    {
      "cell_type": "code",
      "metadata": {
        "id": "iE_b_2COI0aY",
        "colab": {
          "base_uri": "https://localhost:8080/",
          "height": 478
        },
        "outputId": "548021fc-cdca-49dc-87ee-12d2efb55034"
      },
      "source": [
        "matplotlib.pyplot.plot(recalls, precisions, linewidth=4, color=\"red\", zorder=0)\n",
        "# let's find the optimal position of the threshold based on max f1, max f2, and max f05\n",
        "#matplotlib.pyplot.scatter(#, zorder=1, linewidth=6))\n",
        "\n",
        "matplotlib.pyplot.xlabel(\"Recall\", fontsize=12, fontweight='bold')\n",
        "matplotlib.pyplot.ylabel(\"Precision\", fontsize=12, fontweight='bold')\n",
        "matplotlib.pyplot.title(\"Precision-Recall Curve\", fontsize=15, fontweight=\"bold\")\n",
        "matplotlib.pyplot.show()"
      ],
      "execution_count": null,
      "outputs": [
        {
          "output_type": "display_data",
          "data": {
            "text/plain": [
              "<Figure size 640x480 with 1 Axes>"
            ],
            "image/png": "[encoded data removed]"
          },
          "metadata": {}
        }
      ]
    },
    {
      "cell_type": "markdown",
      "metadata": {
        "id": "l5x7-SVhJc-O"
      },
      "source": [
        "\"The average precision (AP) is a way to summarize the precision-recall curve into a single value representing the average of all precisions. The AP is calculated according to the next equation. Using a loop that goes through all precisions/recalls, the difference between the current and next recalls is calculated and then multiplied by the current precision. In other words, the AP is the weighted sum of precisions at each threshold where the weight is the increase in recall.\"\n",
        "\n",
        "$$ AP = \\sum_{k=0}^{k=n-1}(Recalls(k) - Recalls(k-1)) * Precisions(k)$$\n",
        "\n",
        "$$n = \\text{number of thresholds}$$\n",
        "________\n",
        "$$Recalls(n) = 0$$\n",
        "\n",
        "The list of recalls in the last position (position n) is always 0 (we append this value)\n",
        "\n",
        "$$\\text{Precisions(n) = 1}$$\n",
        "The list of precisions in the last position (position n) is always 1 (we append this value)   "
      ]
    },
    {
      "cell_type": "code",
      "metadata": {
        "id": "wC8CxS9VLUDd"
      },
      "source": [
        "# experiment: try reevaluating the notebook while commenting out this value\n",
        "precisions.append(1)\n",
        "recalls.append(0)"
      ],
      "execution_count": null,
      "outputs": []
    },
    {
      "cell_type": "code",
      "metadata": {
        "id": "x6_uvknELIWQ",
        "outputId": "40f4017c-308c-4e98-930a-b7e82a4ad24c",
        "colab": {
          "base_uri": "https://localhost:8080/"
        }
      },
      "source": [
        "import numpy as np\n",
        "\n",
        "recalls = np.array(recalls)\n",
        "precisions = np.array(precisions)\n",
        "\n",
        "AP = np.sum((recalls[:-1] - recalls[1:]) * precisions[:-1])\n",
        "AP"
      ],
      "execution_count": null,
      "outputs": [
        {
          "output_type": "execute_result",
          "data": {
            "text/plain": [
              "0.46493309961953994"
            ]
          },
          "metadata": {},
          "execution_count": 19
        }
      ]
    },
    {
      "cell_type": "markdown",
      "metadata": {
        "id": "AUFDtePeJEF-"
      },
      "source": [
        "## References\n",
        "\n",
        "https://blog.paperspace.com/mean-average-precision/"
      ]
    }
  ]
}