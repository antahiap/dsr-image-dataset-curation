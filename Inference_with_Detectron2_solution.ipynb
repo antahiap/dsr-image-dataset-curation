{
  "nbformat": 4,
  "nbformat_minor": 0,
  "metadata": {
    "accelerator": "GPU",
    "colab": {
      "provenance": [],
      "include_colab_link": true
    },
    "kernelspec": {
      "display_name": "Python 3",
      "name": "python3"
    }
  },
  "cells": [
    {
      "cell_type": "markdown",
      "metadata": {
        "id": "view-in-github",
        "colab_type": "text"
      },
      "source": [
        "<a href=\"https://colab.research.google.com/github/antahiap/dsr-image-dataset-curation/blob/main/Inference_with_Detectron2_solution.ipynb\" target=\"_parent\"><img src=\"https://colab.research.google.com/assets/colab-badge.svg\" alt=\"Open In Colab\"/></a>"
      ]
    },
    {
      "cell_type": "markdown",
      "metadata": {
        "id": "_Z82awuSnLk-"
      },
      "source": [
        "# Inference with Detectron's object detection and segmentation models\n",
        "\n",
        "Notebook based on the official detectron2 tutorial\n",
        "\n",
        "https://colab.research.google.com/drive/16jcaJoc6bCFAQ96jDe2HwtXj7BMD_-m5#scrollTo=FsePPpwZSmqt"
      ]
    },
    {
      "cell_type": "markdown",
      "metadata": {
        "id": "L_zL1kQ-s4k3"
      },
      "source": [
        "### Usage\n",
        "\n",
        "* Specify the use of the GPU by going to Runtime -> Change Runtime type -> Hardware accelerator: GPU\n",
        "\n",
        "* After installation of detectron you need you need to \"restart runtime\" in Colab. Runtime -> Restart Runtime"
      ]
    },
    {
      "cell_type": "markdown",
      "metadata": {
        "id": "vM54r6jlKTII"
      },
      "source": [
        "# Install detectron2"
      ]
    },
    {
      "cell_type": "code",
      "metadata": {
        "colab": {
          "base_uri": "https://localhost:8080/"
        },
        "id": "FsePPpwZSmqt",
        "outputId": "6d7463db-858f-4686-d24c-ac4e8cd4d440"
      },
      "source": [
        "!pip install pyyaml==5.1\n",
        "\n",
        "import torch\n",
        "TORCH_VERSION = \".\".join(torch.__version__.split(\".\")[:2])\n",
        "CUDA_VERSION = torch.__version__.split(\"+\")[-1]\n",
        "print(\"torch: \", TORCH_VERSION, \"; cuda: \", CUDA_VERSION)\n",
        "# Install detectron2 that matches the above pytorch version\n",
        "# See https://detectron2.readthedocs.io/tutorials/install.html for instructions\n",
        "!pip install detectron2 -f https://dl.fbaipublicfiles.com/detectron2/wheels/$CUDA_VERSION/torch$TORCH_VERSION/index.html\n",
        "# If there is not yet a detectron2 release that matches the given torch + CUDA version, you need to install a different pytorch.\n",
        "\n",
        "# exit(0)  # After installation, you may need to \"restart runtime\" in Colab. This line can also restart runtime"
      ],
      "execution_count": null,
      "outputs": [
        {
          "output_type": "stream",
          "name": "stdout",
          "text": [
            "Looking in indexes: https://pypi.org/simple, https://us-python.pkg.dev/colab-wheels/public/simple/\n",
            "Collecting pyyaml==5.1\n",
            "  Downloading PyYAML-5.1.tar.gz (274 kB)\n",
            "\u001b[K     |████████████████████████████████| 274 kB 15.0 MB/s \n",
            "\u001b[?25hBuilding wheels for collected packages: pyyaml\n",
            "  Building wheel for pyyaml (setup.py) ... \u001b[?25l\u001b[?25hdone\n",
            "  Created wheel for pyyaml: filename=PyYAML-5.1-cp37-cp37m-linux_x86_64.whl size=44092 sha256=b8afd573257a3acd8c422d29d8e9c47f9d19eebffeb64f2481a435ab1e4f8060\n",
            "  Stored in directory: /root/.cache/pip/wheels/77/f5/10/d00a2bd30928b972790053b5de0c703ca87324f3fead0f2fd9\n",
            "Successfully built pyyaml\n",
            "Installing collected packages: pyyaml\n",
            "  Attempting uninstall: pyyaml\n",
            "    Found existing installation: PyYAML 6.0\n",
            "    Uninstalling PyYAML-6.0:\n",
            "      Successfully uninstalled PyYAML-6.0\n",
            "\u001b[31mERROR: pip's dependency resolver does not currently take into account all the packages that are installed. This behaviour is the source of the following dependency conflicts.\n",
            "dask 2022.2.0 requires pyyaml>=5.3.1, but you have pyyaml 5.1 which is incompatible.\u001b[0m\n",
            "Successfully installed pyyaml-5.1\n",
            "torch:  1.12 ; cuda:  cu113\n",
            "Looking in indexes: https://pypi.org/simple, https://us-python.pkg.dev/colab-wheels/public/simple/\n",
            "Looking in links: https://dl.fbaipublicfiles.com/detectron2/wheels/cu113/torch1.12/index.html\n",
            "\u001b[31mERROR: Could not find a version that satisfies the requirement detectron2 (from versions: none)\u001b[0m\n",
            "\u001b[31mERROR: No matching distribution found for detectron2\u001b[0m\n"
          ]
        }
      ]
    },
    {
      "cell_type": "code",
      "metadata": {
        "colab": {
          "base_uri": "https://localhost:8080/"
        },
        "id": "9_FzH13EjseR",
        "outputId": "89bb47b9-a441-4ed1-ffab-f358de054c94"
      },
      "source": [
        "# check pytorch installation:\n",
        "import torch, torchvision\n",
        "print(torch.__version__, torch.cuda.is_available())\n"
      ],
      "execution_count": null,
      "outputs": [
        {
          "output_type": "stream",
          "name": "stdout",
          "text": [
            "1.12.1+cu113 True\n"
          ]
        }
      ]
    },
    {
      "cell_type": "code",
      "metadata": {
        "id": "ZyAvNCJMmvFF",
        "outputId": "f97e8f20-a67c-4457-e88a-0082db1a5e0d",
        "colab": {
          "base_uri": "https://localhost:8080/",
          "height": 374
        }
      },
      "source": [
        "# Some basic setup:\n",
        "# Setup detectron2 logger\n",
        "import detectron2\n",
        "from detectron2.utils.logger import setup_logger\n",
        "setup_logger()\n",
        "\n",
        "# import some common libraries\n",
        "import numpy as np\n",
        "import os, json, cv2, random\n",
        "from google.colab.patches import cv2_imshow\n",
        "\n",
        "# import some common detectron2 utilities\n",
        "from detectron2 import model_zoo\n",
        "from detectron2.engine import DefaultPredictor\n",
        "from detectron2.config import get_cfg\n",
        "from detectron2.utils.visualizer import Visualizer\n",
        "from detectron2.data import MetadataCatalog, DatasetCatalog"
      ],
      "execution_count": null,
      "outputs": [
        {
          "output_type": "error",
          "ename": "ModuleNotFoundError",
          "evalue": "ignored",
          "traceback": [
            "\u001b[0;31m---------------------------------------------------------------------------\u001b[0m",
            "\u001b[0;31mModuleNotFoundError\u001b[0m                       Traceback (most recent call last)",
            "\u001b[0;32m<ipython-input-3-9283645e3740>\u001b[0m in \u001b[0;36m<module>\u001b[0;34m\u001b[0m\n\u001b[1;32m      1\u001b[0m \u001b[0;31m# Some basic setup:\u001b[0m\u001b[0;34m\u001b[0m\u001b[0;34m\u001b[0m\u001b[0;34m\u001b[0m\u001b[0m\n\u001b[1;32m      2\u001b[0m \u001b[0;31m# Setup detectron2 logger\u001b[0m\u001b[0;34m\u001b[0m\u001b[0;34m\u001b[0m\u001b[0;34m\u001b[0m\u001b[0m\n\u001b[0;32m----> 3\u001b[0;31m \u001b[0;32mimport\u001b[0m \u001b[0mdetectron2\u001b[0m\u001b[0;34m\u001b[0m\u001b[0;34m\u001b[0m\u001b[0m\n\u001b[0m\u001b[1;32m      4\u001b[0m \u001b[0;32mfrom\u001b[0m \u001b[0mdetectron2\u001b[0m\u001b[0;34m.\u001b[0m\u001b[0mutils\u001b[0m\u001b[0;34m.\u001b[0m\u001b[0mlogger\u001b[0m \u001b[0;32mimport\u001b[0m \u001b[0msetup_logger\u001b[0m\u001b[0;34m\u001b[0m\u001b[0;34m\u001b[0m\u001b[0m\n\u001b[1;32m      5\u001b[0m \u001b[0msetup_logger\u001b[0m\u001b[0;34m(\u001b[0m\u001b[0;34m)\u001b[0m\u001b[0;34m\u001b[0m\u001b[0;34m\u001b[0m\u001b[0m\n",
            "\u001b[0;31mModuleNotFoundError\u001b[0m: No module named 'detectron2'",
            "",
            "\u001b[0;31m---------------------------------------------------------------------------\u001b[0;32m\nNOTE: If your import is failing due to a missing package, you can\nmanually install dependencies using either !pip or !apt.\n\nTo view examples of installing some common dependencies, click the\n\"Open Examples\" button below.\n\u001b[0;31m---------------------------------------------------------------------------\u001b[0m\n"
          ],
          "errorDetails": {
            "actions": [
              {
                "action": "open_url",
                "actionText": "Open Examples",
                "url": "/notebooks/snippets/importing_libraries.ipynb"
              }
            ]
          }
        }
      ]
    },
    {
      "cell_type": "code",
      "metadata": {
        "id": "7CGABPSI9HRh"
      },
      "source": [
        "# Download a couple of images from github\n",
        "!wget https://github.com/andandandand/images-for-colab-notebooks/blob/main/parked_cars.jpg?raw=true -q -O input.jpg\n",
        "!wget https://raw.githubusercontent.com/andandandand/images-for-colab-notebooks/main/racing_horses.jpg -q -O input2.jpg\n",
        "!wget https://raw.githubusercontent.com/andandandand/images-for-colab-notebooks/main/boxing.jpg -q -O input3.jpg\n",
        "!ls"
      ],
      "execution_count": null,
      "outputs": []
    },
    {
      "cell_type": "code",
      "metadata": {
        "id": "dq9GY37ml1kr"
      },
      "source": [
        "# Here put your OWN image (get it from the internet somehow)\n",
        "im = cv2.imread(\"./input2.jpg\")\n",
        "# cv2_imshow is a Detectron utility function for Google Colab\n",
        "cv2_imshow(im)"
      ],
      "execution_count": null,
      "outputs": []
    },
    {
      "cell_type": "markdown",
      "metadata": {
        "id": "Vk4gID50K03a"
      },
      "source": [
        "# Run pre-trained detectron 2 models"
      ]
    },
    {
      "cell_type": "markdown",
      "metadata": {
        "id": "uM1thbN-ntjI"
      },
      "source": [
        "Then, we create a detectron2 config YAML file and a detectron2 `DefaultPredictor` to run inference on this image."
      ]
    },
    {
      "cell_type": "code",
      "metadata": {
        "id": "qh45ytmwKJ6n"
      },
      "source": [
        "# get the YAML file with the model configuration\n",
        "# https://detectron2.readthedocs.io/en/latest/modules/config.html?highlight=get_cfg#detectron2.config.get_cfg\n",
        "cfg = get_cfg()\n",
        "cfg"
      ],
      "execution_count": null,
      "outputs": []
    },
    {
      "cell_type": "code",
      "metadata": {
        "id": "2j08mlWYo8Yf"
      },
      "source": [
        "# specify the model's architecture, filenames and paths are *exactly*\n",
        "# the same as in https://github.com/facebookresearch/detectron2/tree/master/configs\n",
        "# https://github.com/facebookresearch/detectron2/blob/master/configs/COCO-Detection/faster_rcnn_R_50_FPN_1x.yaml\n",
        "# notice the stem and folder at the end of the URL\n",
        "# this is what should be passed to both get_config_file and get_checkpoint_url\n",
        "# https://detectron2.readthedocs.io/en/latest/modules/model_zoo.html?highlight=get_config_file#detectron2.model_zoo.get_config_file\n",
        "cfg.merge_from_file(model_zoo.get_config_file('COCO-Detection/faster_rcnn_R_50_FPN_3x.yaml'))\n",
        "# specify the pretrained model's weights\n",
        "# https://detectron2.readthedocs.io/en/latest/modules/model_zoo.html?highlight=get_checkpoint_url#detectron2.model_zoo.get_checkpoint_url\n",
        "cfg.MODEL.WEIGHTS = model_zoo.get_checkpoint_url('COCO-Detection/faster_rcnn_R_50_FPN_3x.yaml')"
      ],
      "execution_count": null,
      "outputs": []
    },
    {
      "cell_type": "code",
      "metadata": {
        "id": "uDfDyQb4spew"
      },
      "source": [
        "#check cfg.MODEL\n",
        "cfg.MODEL"
      ],
      "execution_count": null,
      "outputs": []
    },
    {
      "cell_type": "code",
      "metadata": {
        "id": "4CK2dYCZsyOw"
      },
      "source": [
        "#check cfg.MODEL.WEIGHTS\n",
        "cfg.MODEL.WEIGHTS"
      ],
      "execution_count": null,
      "outputs": []
    },
    {
      "cell_type": "code",
      "metadata": {
        "id": "2Ff_Hi4cpBgl"
      },
      "source": [
        "# set the activation threshold for this model\n",
        "# experiment: Check the output when making this value lower and/or higher\n",
        "# values should be between 0.0 and 1.0\n",
        "cfg.MODEL.ROI_HEADS.SCORE_THRESH_TEST = 0.6  # set activation threshold for this model"
      ],
      "execution_count": null,
      "outputs": []
    },
    {
      "cell_type": "code",
      "metadata": {
        "id": "p-a2N30IpDav"
      },
      "source": [
        "# instantiate the predictor\n",
        "# https://detectron2.readthedocs.io/en/latest/modules/engine.html?highlight=defaultpredictor#detectron2.engine.defaults.DefaultPredictor\n",
        "predictor = DefaultPredictor(cfg)\n",
        "# get the predictor's outputs\n",
        "outputs = predictor(im)"
      ],
      "execution_count": null,
      "outputs": []
    },
    {
      "cell_type": "code",
      "metadata": {
        "id": "HdA73K6GDLGd"
      },
      "source": [
        "\n",
        "cfg.MODEL.ROI_HEADS.SCORE_THRESH_TEST = 0.7  # set activation threshold for this model\n",
        "\n",
        "# instantiate the predictor\n",
        "# https://detectron2.readthedocs.io/en/latest/modules/engine.html?highlight=defaultpredictor#detectron2.engine.defaults.DefaultPredictor\n",
        "predictor = DefaultPredictor(cfg)\n",
        "# get the predictor's outputs\n",
        "outputs = predictor(im)\n",
        "\n",
        "v = Visualizer(im[:, :, ::-1], MetadataCatalog.get(cfg.DATASETS.TRAIN[0]), scale=1.5)\n",
        "out = v.draw_instance_predictions(outputs[\"instances\"].to(\"cpu\"))\n",
        "cv2_imshow(out.get_image()[:, :, ::-1])"
      ],
      "execution_count": null,
      "outputs": []
    },
    {
      "cell_type": "markdown",
      "metadata": {
        "id": "UEE_fkrEF_mT"
      },
      "source": [
        "## Inference with Mask RCNN"
      ]
    },
    {
      "cell_type": "code",
      "metadata": {
        "id": "HUjkwRsOn1O0"
      },
      "source": [
        "# get the YAML file with the model configuration\n",
        "# https://detectron2.readthedocs.io/en/latest/modules/config.html?highlight=get_cfg#detectron2.config.get_cfg\n",
        "cfg = get_cfg()\n",
        "\n",
        "# the set of available config files is on https://github.com/facebookresearch/detectron2/tree/master/configs\n",
        "# we need to do the calls to both merge_from_file() and cfg.MODEL.WEIGHTS() with the same yaml file specification\n",
        "\n",
        "cfg.merge_from_file(model_zoo.get_config_file('COCO-InstanceSegmentation/mask_rcnn_R_50_DC5_1x.yaml'))\n",
        "cfg.MODEL.WEIGHTS = model_zoo.get_checkpoint_url('COCO-InstanceSegmentation/mask_rcnn_R_50_DC5_1x.yaml')\n",
        "\n",
        "\n",
        "# Experiment: change the activation thresholds\n",
        "cfg.MODEL.ROI_HEADS.SCORE_THRESH_TEST = 0.5\n",
        "\n",
        "\n",
        "# instantiate the predictor\n",
        "# https://detectron2.readthedocs.io/en/latest/modules/engine.html?highlight=defaultpredictor#detectron2.engine.defaults.DefaultPredictor\n",
        "predictor = DefaultPredictor(cfg)\n",
        "predictor"
      ],
      "execution_count": null,
      "outputs": []
    },
    {
      "cell_type": "code",
      "metadata": {
        "id": "Jfr2btqXl5db"
      },
      "source": [
        "# get the predictor's outputs\n",
        "outputs = predictor(im)\n",
        "outputs"
      ],
      "execution_count": null,
      "outputs": []
    },
    {
      "cell_type": "code",
      "metadata": {
        "id": "SEUrghNsApss"
      },
      "source": [
        "# check what we can get inference of\n",
        "# https://detectron2.readthedocs.io/en/latest/modules/structures.html#detectron2.structures.Instances.get_fields\n",
        "fields = outputs['instances'].get_fields()\n",
        "fields.keys()"
      ],
      "execution_count": null,
      "outputs": []
    },
    {
      "cell_type": "code",
      "metadata": {
        "id": "8IRGo8d0qkgR"
      },
      "source": [
        "# We can use detectron's `Visualizer` to draw the predictions on the image.\n",
        "# https://detectron2.readthedocs.io/en/latest/modules/utils.html?highlight=Visualizer#detectron2.utils.visualizer.Visualizer\n",
        "v = Visualizer(im[:, :, ::-1], MetadataCatalog.get(cfg.DATASETS.TRAIN[0]), scale=1.5)\n",
        "v"
      ],
      "execution_count": null,
      "outputs": []
    },
    {
      "cell_type": "code",
      "metadata": {
        "id": "GjUr11XSmbJv"
      },
      "source": [
        "#https://detectron2.readthedocs.io/en/latest/modules/utils.html?highlight=draw_instance_predictions#detectron2.utils.visualizer.Visualizer.draw_instance_predictions\n",
        "# Exercise: get rid of the chair\n",
        "out = v.draw_instance_predictions(outputs[\"instances\"].to(\"cpu\"))\n",
        "cv2_imshow(out.get_image()[:, :, ::-1])"
      ],
      "execution_count": null,
      "outputs": []
    },
    {
      "cell_type": "markdown",
      "metadata": {
        "id": "-kMUQLu2S0kx"
      },
      "source": [
        "## Inference with a keypoint detection model"
      ]
    },
    {
      "cell_type": "code",
      "metadata": {
        "id": "i49Q6RBY-3Fb"
      },
      "source": [
        "# Inference with a keypoint detection model\n",
        "cfg = get_cfg()   # get a fresh new config\n",
        "\n",
        "#experiment with a keypoint detection model\n",
        "cfg.merge_from_file(model_zoo.get_config_file(\"COCO-Keypoints/keypoint_rcnn_R_50_FPN_3x.yaml\"))\n",
        "cfg.MODEL.WEIGHTS = model_zoo.get_checkpoint_url(\"COCO-Keypoints/keypoint_rcnn_R_50_FPN_3x.yaml\")\n",
        "\n",
        "predictor = DefaultPredictor(cfg)\n",
        "\n",
        "#Q: How do we change the number of detected people?\n",
        "cfg.MODEL.ROI_HEADS.SCORE_THRESH_TEST = 0.6\n",
        "\n",
        "\n",
        "outputs = predictor(im)\n",
        "v = Visualizer(im[:,:,::-1], MetadataCatalog.get(cfg.DATASETS.TRAIN[0]), scale=1.2)\n",
        "out = v.draw_instance_predictions(outputs[\"instances\"].to(\"cpu\"))\n",
        "cv2_imshow(out.get_image()[:, :, ::-1])"
      ],
      "execution_count": null,
      "outputs": []
    },
    {
      "cell_type": "code",
      "metadata": {
        "id": "jIYh0fr3Hqqp"
      },
      "source": [
        "dir(cfg.MODEL.ROI_HEADS)"
      ],
      "execution_count": null,
      "outputs": []
    },
    {
      "cell_type": "markdown",
      "metadata": {
        "id": "ybUlZ_6aSpRF"
      },
      "source": [
        "## Inference with a panoptic segmentation model"
      ]
    },
    {
      "cell_type": "code",
      "metadata": {
        "id": "biCWmNMPtIdm"
      },
      "source": [
        "cfg = get_cfg()\n",
        "cfg.merge_from_file(model_zoo.get_config_file(\"COCO-PanopticSegmentation/panoptic_fpn_R_101_3x.yaml\"))\n",
        "# We choose a feature pyramid network with 101 layers to perform panoptic segmentation\n",
        "cfg.MODEL.WEIGHTS = model_zoo.get_checkpoint_url(\"COCO-PanopticSegmentation/panoptic_fpn_R_101_3x.yaml\")\n",
        "cfg.MODEL.ROI_HEADS.SCORE_THRESH_TEST = 0.5\n",
        "predictor = DefaultPredictor(cfg)\n",
        "panoptic_seg, segments_info = predictor(im)[\"panoptic_seg\"]\n",
        "v = Visualizer(im[:, :, ::-1], MetadataCatalog.get(cfg.DATASETS.TRAIN[0]), scale=1.2)\n",
        "out = v.draw_panoptic_seg_predictions(panoptic_seg.to(\"cpu\"), segments_info)\n",
        "cv2_imshow(out.get_image()[:, :, ::-1])"
      ],
      "execution_count": null,
      "outputs": []
    },
    {
      "cell_type": "code",
      "metadata": {
        "id": "6cYjz42nX44e"
      },
      "source": [
        "# check out stuff_classes and thing_classes\n",
        "v.metadata\n",
        "\n",
        "# notice the overlap between stuff and things\n",
        "print(v.metadata.stuff_classes)\n",
        "\n",
        "print(v.metadata.thing_classes)"
      ],
      "execution_count": null,
      "outputs": []
    },
    {
      "cell_type": "code",
      "metadata": {
        "id": "IxTUsqOLCWTm"
      },
      "source": [
        "im_2 = cv2.imread(\"./input.jpg\")\n",
        "cv2_imshow(im_2)"
      ],
      "execution_count": null,
      "outputs": []
    },
    {
      "cell_type": "code",
      "metadata": {
        "id": "1bD1Kwii4kng"
      },
      "source": [
        "panoptic_seg, segments_info = predictor(im_2)[\"panoptic_seg\"]\n",
        "v = Visualizer(im_2[:, :, ::-1], MetadataCatalog.get(cfg.DATASETS.TRAIN[0]), scale=1.2)\n",
        "out = v.draw_panoptic_seg_predictions(panoptic_seg.to(\"cpu\"), segments_info)\n",
        "cv2_imshow(out.get_image()[:, :, ::-1])"
      ],
      "execution_count": null,
      "outputs": []
    },
    {
      "cell_type": "code",
      "metadata": {
        "id": "uhembg_V4ltV"
      },
      "source": [
        "im_3 = cv2.imread(\"./input2.jpg\")\n",
        "cv2_imshow(im_3)"
      ],
      "execution_count": null,
      "outputs": []
    },
    {
      "cell_type": "code",
      "metadata": {
        "id": "VcIviOHJ5BVK"
      },
      "source": [
        "panoptic_seg, segments_info = predictor(im_3)[\"panoptic_seg\"]\n",
        "v = Visualizer(im_3[:, :, ::-1], MetadataCatalog.get(cfg.DATASETS.TRAIN[0]), scale=1.2)\n",
        "out = v.draw_panoptic_seg_predictions(panoptic_seg.to(\"cpu\"), segments_info)\n",
        "cv2_imshow(out.get_image()[:, :, ::-1])"
      ],
      "execution_count": null,
      "outputs": []
    },
    {
      "cell_type": "code",
      "metadata": {
        "id": "Cvy4NKlc5Qv3"
      },
      "source": [],
      "execution_count": null,
      "outputs": []
    }
  ]
}